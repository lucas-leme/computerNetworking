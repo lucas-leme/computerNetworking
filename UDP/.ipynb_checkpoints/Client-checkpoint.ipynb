{
 "cells": [
  {
   "cell_type": "code",
   "execution_count": null,
   "metadata": {},
   "outputs": [],
   "source": [
    "import socket"
   ]
  },
  {
   "cell_type": "code",
   "execution_count": 2,
   "metadata": {},
   "outputs": [],
   "source": [
    "HOST = 'localhost' \n",
    "PORT = 9090"
   ]
  },
  {
   "cell_type": "code",
   "execution_count": null,
   "metadata": {},
   "outputs": [
    {
     "name": "stdin",
     "output_type": "stream",
     "text": [
      "Insira uma nova messagem Lucas é legal\n"
     ]
    }
   ],
   "source": [
    "udp_client = socket.socket(socket.AF_INET, socket.SOCK_DGRAM)\n",
    "\n",
    "destiny = (HOST, PORT)\n",
    "\n",
    "message = bytes('Início da comunicação', 'utf-8')\n",
    "\n",
    "END_VALUE = bytes('termina', 'utf-8')\n",
    "\n",
    "while message != END_VALUE:\n",
    "    udp_client.sendto (message, destiny)\n",
    "    text = input('Insira uma nova messagem')\n",
    "    message = bytes(text, 'utf-8')\n",
    "    \n",
    "udp_client.close()"
   ]
  },
  {
   "cell_type": "code",
   "execution_count": null,
   "metadata": {},
   "outputs": [],
   "source": []
  }
 ],
 "metadata": {
  "kernelspec": {
   "display_name": "Python 3",
   "language": "python",
   "name": "python3"
  },
  "language_info": {
   "codemirror_mode": {
    "name": "ipython",
    "version": 3
   },
   "file_extension": ".py",
   "mimetype": "text/x-python",
   "name": "python",
   "nbconvert_exporter": "python",
   "pygments_lexer": "ipython3",
   "version": "3.7.9"
  }
 },
 "nbformat": 4,
 "nbformat_minor": 4
}
